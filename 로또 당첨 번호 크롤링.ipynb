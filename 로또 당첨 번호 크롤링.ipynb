{
 "cells": [
  {
   "cell_type": "code",
   "execution_count": 2,
   "metadata": {},
   "outputs": [
    {
     "data": {
      "text/plain": [
       "['7', '11', '13', '17', '18', '29', '43']"
      ]
     },
     "execution_count": 2,
     "metadata": {},
     "output_type": "execute_result"
    }
   ],
   "source": [
    "import requests\n",
    "from bs4 import BeautifulSoup\n",
    "\n",
    "url = \"https://dhlottery.co.kr/gameResult.do?method=byWin&drwNo=936\"\n",
    "\n",
    "html = requests.get(url).text\n",
    "soup = BeautifulSoup(html, 'lxml') \n",
    "\n",
    "win_nums = soup.select(\"span.ball_645\")\n",
    "    \n",
    "lotto_936_num = [win_num.get_text() for win_num in win_nums]\n",
    "lotto_936_num"
   ]
  },
  {
   "cell_type": "code",
   "execution_count": 8,
   "metadata": {},
   "outputs": [
    {
     "name": "stdout",
     "output_type": "stream",
     "text": [
      "[10, 9, 11, 14, 16, 14, 2, 8, 2]\n",
      "[23, 13, 16, 27, 24, 15, 9, 19, 4]\n",
      "[29, 21, 19, 30, 29, 26, 16, 25, 16]\n",
      "[33, 25, 21, 31, 40, 27, 25, 34, 17]\n",
      "[37, 32, 27, 40, 41, 40, 26, 37, 36]\n",
      "[40, 42, 31, 42, 42, 42, 40, 39, 39]\n",
      "[16, 2, 30, 2, 3, 34, 42, 9, 14]\n"
     ]
    }
   ],
   "source": [
    "import requests\n",
    "from bs4 import BeautifulSoup\n",
    "\n",
    "one_num = []\n",
    "two_num = []\n",
    "three_num = []\n",
    "four_num = []\n",
    "five_num = []\n",
    "six_num = []\n",
    "bonus_num = []\n",
    "\n",
    "for i in range(1, 10):\n",
    "    url = f\"https://dhlottery.co.kr/gameResult.do?method=byWin&drwNo={i}\"\n",
    "\n",
    "    html = requests.get(url).text\n",
    "    soup = BeautifulSoup(html, 'lxml') \n",
    "\n",
    "    soup_lottos = soup.select(\"span.ball_645\")\n",
    "    lotto_num = [soup_lotto.get_text() for soup_lotto in soup_lottos]\n",
    "\n",
    "    one_num.append(int(lotto_num[0]))\n",
    "    two_num.append(int(lotto_num[1]))\n",
    "    three_num.append(int(lotto_num[2]))\n",
    "    four_num.append(int(lotto_num[3]))\n",
    "    five_num.append(int(lotto_num[4]))\n",
    "    six_num.append(int(lotto_num[5]))\n",
    "    bonus_num.append(int(lotto_num[6]))\n",
    "\n",
    "print(one_num)\n",
    "print(two_num)\n",
    "print(three_num)\n",
    "print(four_num)\n",
    "print(five_num)\n",
    "print(six_num)\n",
    "print(bonus_num)"
   ]
  },
  {
   "cell_type": "code",
   "execution_count": 18,
   "metadata": {},
   "outputs": [
    {
     "ename": "AttributeError",
     "evalue": "'NoneType' object has no attribute 'text'",
     "output_type": "error",
     "traceback": [
      "\u001b[1;31m---------------------------------------------------------------------------\u001b[0m",
      "\u001b[1;31mAttributeError\u001b[0m                            Traceback (most recent call last)",
      "\u001b[1;32m<ipython-input-18-7a7ade1d2341>\u001b[0m in \u001b[0;36m<module>\u001b[1;34m\u001b[0m\n\u001b[0;32m     39\u001b[0m \u001b[1;33m\u001b[0m\u001b[0m\n\u001b[0;32m     40\u001b[0m     \u001b[0msoup_winner_prizes\u001b[0m \u001b[1;33m=\u001b[0m \u001b[0msoup\u001b[0m\u001b[1;33m.\u001b[0m\u001b[0mselect_one\u001b[0m\u001b[1;33m(\u001b[0m\u001b[1;34m\"table.tbl_data tbody tr td.tar td.tar\"\u001b[0m\u001b[1;33m)\u001b[0m\u001b[1;33m\u001b[0m\u001b[1;33m\u001b[0m\u001b[0m\n\u001b[1;32m---> 41\u001b[1;33m     \u001b[0mlotto_winner_prize\u001b[0m\u001b[1;33m.\u001b[0m\u001b[0mappend\u001b[0m\u001b[1;33m(\u001b[0m\u001b[0msoup_winner_prizes\u001b[0m\u001b[1;33m.\u001b[0m\u001b[0mtext\u001b[0m\u001b[1;33m)\u001b[0m\u001b[1;33m\u001b[0m\u001b[1;33m\u001b[0m\u001b[0m\n\u001b[0m\u001b[0;32m     42\u001b[0m \u001b[1;33m\u001b[0m\u001b[0m\n\u001b[0;32m     43\u001b[0m \u001b[0mprint\u001b[0m\u001b[1;33m(\u001b[0m\u001b[0mone_num\u001b[0m\u001b[1;33m)\u001b[0m\u001b[1;33m\u001b[0m\u001b[1;33m\u001b[0m\u001b[0m\n",
      "\u001b[1;31mAttributeError\u001b[0m: 'NoneType' object has no attribute 'text'"
     ]
    }
   ],
   "source": [
    "import requests\n",
    "from bs4 import BeautifulSoup\n",
    "\n",
    "lotto_date = []\n",
    "one_num = []\n",
    "two_num = []\n",
    "three_num = []\n",
    "four_num = []\n",
    "five_num = []\n",
    "six_num = []\n",
    "bonus_num = []\n",
    "lotto_total_prize = []\n",
    "lotto_winner = []\n",
    "lotto_winner_prize = []\n",
    "lotto_winner_num = []\n",
    "\n",
    "for i in range(1, 13):\n",
    "    url = f\"https://dhlottery.co.kr/gameResult.do?method=byWin&drwNo={i}\"\n",
    "\n",
    "    html = requests.get(url).text\n",
    "    soup = BeautifulSoup(html, 'lxml') \n",
    "\n",
    "    soup_lottos = soup.select(\"span.ball_645\")\n",
    "    lotto_num = [soup_lotto.get_text() for soup_lotto in soup_lottos]\n",
    "\n",
    "    one_num.append(int(lotto_num[0]))\n",
    "    two_num.append(int(lotto_num[1]))\n",
    "    three_num.append(int(lotto_num[2]))\n",
    "    four_num.append(int(lotto_num[3]))\n",
    "    five_num.append(int(lotto_num[4]))\n",
    "    six_num.append(int(lotto_num[5]))\n",
    "    bonus_num.append(int(lotto_num[6]))\n",
    "\n",
    "    soup_dates = soup.select_one(\"p.desc\")\n",
    "    lotto_date.append(soup_dates.text.replace(\" 추첨)\",\"\").replace(\"(\",\"\"))\n",
    "    \n",
    "    soup_total_prizes = soup.select_one(\"strong.color_key1\")\n",
    "    lotto_total_prize.append(soup_total_prizes.text)\n",
    "    \n",
    "    soup_winner_prizes = soup.select_one(\"table.tbl_data tbody tr td.tar td.tar\")\n",
    "    lotto_winner_prize.append(soup_winner_prizes.text)\n",
    "    \n",
    "print(one_num)\n",
    "print(two_num)\n",
    "print(three_num)\n",
    "print(four_num)\n",
    "print(five_num)\n",
    "print(six_num)\n",
    "print(bonus_num)\n",
    "print(lotto_date)\n",
    "print(lotto_total_prize)\n",
    "print(lotto_winner_prize)"
   ]
  },
  {
   "cell_type": "code",
   "execution_count": null,
   "metadata": {},
   "outputs": [],
   "source": [
    "\n"
   ]
  }
 ],
 "metadata": {
  "kernelspec": {
   "display_name": "Python 3",
   "language": "python",
   "name": "python3"
  },
  "language_info": {
   "codemirror_mode": {
    "name": "ipython",
    "version": 3
   },
   "file_extension": ".py",
   "mimetype": "text/x-python",
   "name": "python",
   "nbconvert_exporter": "python",
   "pygments_lexer": "ipython3",
   "version": "3.8.3"
  }
 },
 "nbformat": 4,
 "nbformat_minor": 4
}
