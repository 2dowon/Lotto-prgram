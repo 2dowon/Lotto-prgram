{
 "cells": [
  {
   "cell_type": "code",
   "execution_count": 2,
   "metadata": {},
   "outputs": [
    {
     "name": "stderr",
     "output_type": "stream",
     "text": [
<<<<<<< HEAD
      "100%|██████████| 936/936 [06:35<00:00,  2.37it/s]"
=======
      "100%|████████████████████████████████████████████████████████████████████████████████| 936/936 [07:15<00:00,  2.15it/s]"
>>>>>>> 9147588b03dbf7cb9013b6fa71aaec8c9165efa1
     ]
    },
    {
     "name": "stdout",
     "output_type": "stream",
     "text": [
      "    count\n",
      "1     131\n",
      "2     122\n",
      "3     125\n",
      "4     127\n",
      "5     128\n",
      "6     118\n",
      "7     125\n",
      "8     125\n",
      "9      95\n",
      "10    128\n",
      "11    127\n",
      "12    133\n",
      "13    131\n",
      "14    132\n",
      "15    126\n",
      "16    121\n",
      "17    136\n",
      "18    136\n",
      "19    129\n",
      "20    131\n",
      "21    125\n",
      "22    105\n",
      "23    113\n",
      "24    123\n",
      "25    121\n",
      "26    125\n",
      "27    138\n",
      "28    116\n",
      "29    113\n",
      "30    112\n",
      "31    126\n",
      "32    109\n",
      "33    130\n",
      "34    146\n",
      "35    114\n",
      "36    124\n",
      "37    128\n",
      "38    127\n",
      "39    134\n",
      "40    132\n",
      "41    113\n",
      "42    121\n",
      "43    139\n",
      "44    125\n",
      "45    131\n",
      "    count\n",
      "34    146\n",
      "43    139\n",
      "27    138\n",
      "17    136\n",
      "18    136\n",
      "39    134\n",
      "12    133\n",
      "14    132\n",
      "40    132\n",
      "1     131\n",
      "[34, 43, 27, 17, 18, 39, 12, 14, 40, 1]\n",
<<<<<<< HEAD
      "추천 로또 번호 : [17, 43, 1, 40, 27, 18]\n"
=======
      "추천 로또 번호 : [39, 43, 1, 18, 17, 27]\n"
>>>>>>> 9147588b03dbf7cb9013b6fa71aaec8c9165efa1
     ]
    },
    {
     "name": "stderr",
     "output_type": "stream",
     "text": [
      "\n"
     ]
    }
   ],
   "source": [
    "import requests\n",
    "from bs4 import BeautifulSoup\n",
    "from tqdm import tqdm\n",
    "import numpy as np\n",
    "import pandas as pd\n",
    "import random\n",
    "\n",
    "lotto_num = [] # 역대 로또 번호를 저장하는 리스트\n",
    "\n",
    "# 로또 사이트에서 역대 로또 당첨 번호를 크롤링해서 lotto_num 리스트에 추가하기\n",
    "for i in tqdm(range(1, 937)):\n",
    "    url = f\"https://dhlottery.co.kr/gameResult.do?method=byWin&drwNo={i}\"\n",
    "\n",
    "    html = requests.get(url).text\n",
    "    soup = BeautifulSoup(html, 'lxml') \n",
    "\n",
    "    soup_lottos = soup.select(\"span.ball_645\")[:6]\n",
    "    lotto_num_list = [int(soup_lotto.get_text()) for soup_lotto in soup_lottos]\n",
    "    lotto_num.append(lotto_num_list)\n",
    "    \n",
    "# 다차원 배열을 1차원 배열로 만들기 (개수를 세기 위해서)\n",
    "lotto_countlist = np.ravel(lotto_num, order='C').tolist()\n",
    "\n",
    "# 1~45까지 카운트한 횟수를 넣는 리스트\n",
    "lotto_count_value = []\n",
    "\n",
    "for i in range(1,46):\n",
    "    lotto_count_value.append(lotto_countlist.count(i))\n",
    "    \n",
    "# 카운트한 값을 데이터프레임으로 만들기\n",
    "data = np.array(lotto_count_value)\n",
    "index_num = [i for i in range(1,46)] \n",
    "columns_list = [\"count\"]\n",
    "df_lotto_count = pd.DataFrame(data, index=index_num, columns=columns_list)\n",
    "print(df_lotto_count)\n",
    "\n",
    "# 가장 많이 나온 로또 번호\n",
    "\n",
    "top10 = df_lotto_count.nlargest(10, 'count')\n",
    "print(top10)\n",
    "\n",
    "top10_list = top10.index.tolist()\n",
    "print(top10_list)\n",
    "\n",
    "# top10을 기반으로 로또 번호 추첨하기\n",
    "top10_lotto = random.sample(top10_list, 6)\n",
    "if top10_lotto in lotto_num == True:\n",
    "    print(\"기존에 1등에 당첨된 적이 있는 번호입니다.\")\n",
    "else:\n",
    "    print(f\"추천 로또 번호 : {top10_lotto}\")"
   ]
  },
  {
   "cell_type": "markdown",
   "metadata": {},
   "source": [
    "# print(df_lotto_count)"
   ]
  },
  {
   "cell_type": "code",
<<<<<<< HEAD
   "execution_count": null,
=======
   "execution_count": 32,
   "metadata": {},
   "outputs": [
    {
     "name": "stdout",
     "output_type": "stream",
     "text": [
      "원하시는 번호 갯수를 입력하세요 : 1\n",
      "1\n",
      "남은 번호를 원하시는 번호로 뽑으시겠습니까 ? Y or N : y\n",
      "원하시는 번호를 입력하세요 : 42\n",
      "[14, 42]\n",
      "원하시는 번호를 입력하세요 : 23\n",
      "[14, 42, 23]\n",
      "원하시는 번호를 입력하세요 : 15\n",
      "[14, 42, 23, 15]\n",
      "원하시는 번호를 입력하세요 : 14\n",
      "중복된 값이 있습니다\n",
      "다시 원하시는 번호를 입력하세요 : 4\n",
      "[14, 42, 23, 15, 4]\n",
      "원하시는 번호를 입력하세요 : 2\n",
      "[14, 42, 23, 15, 4, 2]\n"
     ]
    }
   ],
   "source": [
    "\n",
    "# TOP10에서 본인이 원하는 로또번호 갯수만큼 뽑기\n",
    "# 나머지 개수는 하나하나 input 받아서 6개로 만들고 다시 한줄로 정렬\n",
    "\n",
    "select_lotto = int(input(\"원하시는 번호 갯수를 입력하세요 : \"))\n",
    "top10_lotto = random.sample(top10_list, select_lotto)\n",
    "size = len(top10_lotto)\n",
    "print(size)\n",
    "\n",
    "if size != 6:\n",
    "    select_lotto2 = input(\"남은 번호를 원하시는 번호로 뽑으시겠습니까 ? Y or N : \")\n",
    "    select_lotto3 = select_lotto2    \n",
    "    if select_lotto3 in 'y' or 'Y':\n",
    "        for i in range(5):\n",
    "            size = len(top10_lotto)\n",
    "            if size != 6:\n",
    "                select_lotto = int(input(\"원하시는 번호를 입력하세요 : \"))\n",
    "                test_num = select_lotto\n",
    "                if test_num in top10_lotto != True:\n",
    "                    print(\"중복된 값이 있습니다\")\n",
    "                    try:\n",
    "                        select_lotto = int(input(\"다시 원하시는 번호를 입력하세요 : \"))\n",
    "                        test_num = select_lotto\n",
    "                        top10_lotto.append(select_lotto)\n",
    "                        print(top10_lotto)\n",
    "                    except:\n",
    "                        print(\"다시 입력하세요\")\n",
    "                else:\n",
    "                    top10_lotto.append(select_lotto)\n",
    "                    print(top10_lotto)\n",
    "\n",
    "    \n",
    "# if i in \n",
    "#     top10_lotto2 = random.sample(top10_list, select_lotto2)\n",
    "#     top10_lotto.append(top10_lotto2)\n",
    "#     print(top10_lotto)\n",
    "# else:\n",
    "#     print(\"test3\")\n",
    "\n",
    "\n",
    "\n",
    "\n"
   ]
  },
  {
   "cell_type": "markdown",
   "metadata": {},
   "source": [
    "## if top10_lotto in lotto_num == True:\n",
    "    print(\"기존에 1등에 당첨된 적이 있는 번호입니다.\")\n",
    "else:\n",
    "    print(f\"추천 로또 번호 : {top10_lotto}\")"
   ]
  },
  {
   "cell_type": "markdown",
   "metadata": {},
   "source": [
    "### import matplotlib.pyplot as plt\n",
    "import matplotlib\n",
    "\n",
    "matplotlib.rcParams['font.family'] = 'Malgun Gothic' \n",
    "matplotlib.rcParams['axes.unicode_minus'] = False\n",
    "\n",
    "\n",
    "count_plt = df_lotto_count.plot()\n",
    "plt.xlabel(\"로또 번호\")\n",
    "plt.ylabel(\"횟수\")\n",
    "plt.title(\"역대 로또 번호 횟수\")\n",
    "# ax = plt.subplot()\n",
    "# ax.set_xticks([i for i in range(1,46)])\n",
    "plt.show()"
   ]
  },
  {
   "cell_type": "markdown",
>>>>>>> 9147588b03dbf7cb9013b6fa71aaec8c9165efa1
   "metadata": {},
   "source": [
    "#### "
   ]
  }
 ],
 "metadata": {
  "kernelspec": {
   "display_name": "Python 3",
   "language": "python",
   "name": "python3"
  },
  "language_info": {
   "codemirror_mode": {
    "name": "ipython",
    "version": 3
   },
   "file_extension": ".py",
   "mimetype": "text/x-python",
   "name": "python",
   "nbconvert_exporter": "python",
   "pygments_lexer": "ipython3",
   "version": "3.8.3"
  }
 },
 "nbformat": 4,
 "nbformat_minor": 4
}
